{
 "cells": [
  {
   "cell_type": "markdown",
   "id": "4d6d00d6",
   "metadata": {},
   "source": [
    "# Neural networks with PyTorch - Solutions"
   ]
  },
  {
   "cell_type": "markdown",
   "id": "90744a16",
   "metadata": {},
   "source": [
    "<hr style=\"clear:both\">\n",
    "\n",
    "This notebook is part of a series of exercises for the CIVIL-226 Introduction to Machine Learning for Engineers course at EPFL and adapted for the ME-390. Copyright (c) 2021 [VITA](https://www.epfl.ch/labs/vita/) lab at EPFL  \n",
    "Use of this source code is governed by an MIT-style license that can be found in the LICENSE file or at https://www.opensource.org/licenses/MIT\n",
    "\n",
    "**Author(s):** David Mizrahi\n",
    "\n",
    "**Adapted by:** Sabri El Amrani\n",
    "<hr style=\"clear:both\">"
   ]
  },
  {
   "cell_type": "markdown",
   "id": "3f31e61f",
   "metadata": {},
   "source": [
    "In this exercise, we'll cover the basics of the [PyTorch](https://pytorch.org) package and use it to implement simple neural networks."
   ]
  },
  {
   "cell_type": "markdown",
   "id": "f96ad3c5",
   "metadata": {},
   "source": [
    "## Installation"
   ]
  },
  {
   "cell_type": "code",
   "execution_count": 1,
   "id": "089782e6",
   "metadata": {},
   "outputs": [],
   "source": [
    "# Verify that PyTorch and torchvision are installed correctly\n",
    "# Note: You may need to restart your kernel and re-run this cell before running the following cells\n",
    "import torch"
   ]
  },
  {
   "cell_type": "code",
   "execution_count": 2,
   "id": "bb22f2c9",
   "metadata": {},
   "outputs": [
    {
     "data": {
      "text/plain": [
       "'1.13.1+cu117'"
      ]
     },
     "execution_count": 2,
     "metadata": {},
     "output_type": "execute_result"
    }
   ],
   "source": [
    "torch.__version__"
   ]
  },
  {
   "cell_type": "markdown",
   "id": "da3155c7",
   "metadata": {},
   "source": [
    "#### For Google Colab\n",
    "You can run this notebook in Google Colab using the following link:\n",
    "https://colab.research.google.com/github/SYCAMORE-Lab/ME390-2023-Students/blob/main/Exercises/06-neural-nets/neural_nets_pytorch_Sol.ipynb"
   ]
  },
  {
   "cell_type": "code",
   "execution_count": 3,
   "id": "18ea5aaf",
   "metadata": {},
   "outputs": [],
   "source": [
    "try:\n",
    "  import google.colab\n",
    "  IN_COLAB = True\n",
    "except:\n",
    "  IN_COLAB = False\n",
    "if IN_COLAB:\n",
    "  # Clone the entire repo to access the files\n",
    "  !git clone -l -s https://github.com/SYCAMORE-Lab/ME390-2023-Students.git cloned-repo\n",
    "  %cd cloned-repo/Exercises/06-neural-nets/"
   ]
  },
  {
   "cell_type": "markdown",
   "id": "2206055e",
   "metadata": {},
   "source": [
    "# Exercise 1: Deep Learning with PyTorch"
   ]
  },
  {
   "cell_type": "markdown",
   "id": "2c795db7",
   "metadata": {},
   "source": [
    "PyTorch's website offers a tutorial on the basics of PyTorch, which can be found  at the following link: https://pytorch.org/tutorials/beginner/deep_learning_60min_blitz.html\n",
    "\n",
    "We recommend completing this tutorial before moving on to the second exercise."
   ]
  },
  {
   "cell_type": "markdown",
   "id": "ad610311",
   "metadata": {},
   "source": [
    "# Exercise 2: Simple neural nets for classification with PyTorch"
   ]
  },
  {
   "cell_type": "markdown",
   "id": "d2a79565",
   "metadata": {},
   "source": [
    "## 0. Introduction\n",
    "\n",
    "In this exercise, we'll implement classifiers with PyTorch.\n",
    "More specifically, we'll compare a simple logistic regression model to a simple neural network on the [Electrical Fault detection and classification](https://www.kaggle.com/datasets/esathyaprakash/electrical-fault-detection-and-classification) dataset.\n",
    "\n",
    "*__Background:__ You're an electrical engineer working for a leading power systems research firm, specializing in transmission line protection and fault detection. Your team has compiled a dataset that includes measurements from various electrical power system transmission lines, documenting instances of faults and normal operating conditions. Your task is to develop a predictive model using artificial neural networks (ANNs) to detect and classify faults in transmission lines based on these measurements. This model will assist power system operators in maintaining system stability by enabling faster and more accurate fault detection, thereby minimizing power outages and enhancing the reliability of the power grid. The efficient operation of such a model is crucial for the protection of high-capacity generating power plants and the synchronized electrical power grids, ensuring the stability and robustness of the overall power system.*\n",
    "\n",
    "<img src=\"images/electrical.jpg\" style=\"width:500px\"/>\n",
    "\n",
    "[Source](https://www.usgs.gov/media/images/high-voltage-power-lines)\n",
    "\n",
    "Here is the general pipeline used to train neural networks with PyTorch:\n",
    "\n",
    "```\n",
    "1. Load the dataset\n",
    "2. Initialize a dataloader, define data transforms\n",
    "3. Define and instantiate network architecture\n",
    "4. Choose a loss function\n",
    "5. Choose an optimizer\n",
    "6. Define the training loop & number of epochs\n",
    "7. Train the model\n",
    "8. Check validation accuracy, visualize results, adjust hyper-parameters (not done in this exercise)\n",
    "9. Repeat steps 2-9 until satisfied with validation accuracy (not done in this exercise)\n",
    "10. Check test accuracy\n",
    "```\n",
    "\n",
    "*Recall, Epoch: number of times that the learning algorithm will work through the entire training set*\n",
    "\n",
    "In this exercise, we'll follow these steps to implement our classifiers. Let's get started!"
   ]
  },
  {
   "cell_type": "markdown",
   "id": "a83e9eef",
   "metadata": {},
   "source": [
    "## 1. Imports"
   ]
  },
  {
   "cell_type": "code",
   "execution_count": 4,
   "id": "7fcd9ce2",
   "metadata": {},
   "outputs": [],
   "source": [
    "# Pandas and scikit-learn\n",
    "import pandas as pd\n",
    "from sklearn.model_selection import train_test_split\n",
    "from sklearn.preprocessing import StandardScaler, LabelEncoder\n",
    "\n",
    "# PyTorch\n",
    "import torch\n",
    "import torch.nn as nn\n",
    "import torch.nn.functional as F\n",
    "import torch.optim as optim\n",
    "from torch.utils.data import TensorDataset, DataLoader\n",
    "\n",
    "# Progress bar\n",
    "from tqdm.auto import tqdm\n",
    "import matplotlib.pyplot as plt\n",
    "import random\n",
    "import numpy as np\n",
    "\n",
    "# Helper files\n",
    "import helpers\n",
    "import metrics"
   ]
  },
  {
   "cell_type": "markdown",
   "id": "c2f85680",
   "metadata": {},
   "source": [
    "Here is a brief description of these imported packages:\n",
    "\n",
    "**PyTorch:**\n",
    "- `torch.nn` Contains the basic building blocks to implement neural nets (incl. different types of layers and loss functions) | [Documentation](https://pytorch.org/docs/stable/nn.html)\n",
    "- `torch.nn.functional` A functional (stateless) approach to torch.nn, often used for stateless objects (e.g. ReLU) | [Documentation](https://pytorch.org/docs/stable/nn.functional.html) | [More info](https://discuss.pytorch.org/t/what-is-the-difference-between-torch-nn-and-torch-nn-functional/33597/2)\n",
    "- `torch.optim` A package implementing various optimization algorithms, such as SGD and Adam | [Documentation](https://pytorch.org/docs/stable/optim.html)\n",
    "\n",
    "**`tqdm`:** Popular package used to show progress bars | [Documentation](https://tqdm.github.io/)\n",
    "\n",
    "**`helpers`**: Contains functions to help visualize data and predictions\n",
    "\n",
    "**`metrics`:** Contains two simple classes that help keep track and compute the loss and accuracy over a training epoch"
   ]
  },
  {
   "cell_type": "markdown",
   "id": "f8f74f5f",
   "metadata": {},
   "source": [
    "## 2. Loading and visualizing the data"
   ]
  },
  {
   "cell_type": "markdown",
   "id": "62015ee5",
   "metadata": {
    "tags": []
   },
   "source": [
    "### 2.1. Dataset\n",
    "\n",
    "Let's start by loading our dataset using pandas."
   ]
  },
  {
   "cell_type": "code",
   "execution_count": 5,
   "id": "a3308a3d",
   "metadata": {},
   "outputs": [],
   "source": [
    "# Load the CSV data\n",
    "file_path = 'data/fault_classification.csv'\n",
    "data = pd.read_csv(file_path)\n",
    "\n",
    "# Split the features and target\n",
    "X = data[['Ia', 'Ib', 'Ic', 'Va', 'Vb', 'Vc']]\n",
    "y = data['Fault_Type']\n",
    "\n",
    "# Encode categorical labels to integers\n",
    "label_encoder = LabelEncoder()\n",
    "y = label_encoder.fit_transform(y)\n",
    "\n",
    "# Split the data into training and test sets\n",
    "X_train, X_test, y_train, y_test = train_test_split(X, y, test_size=0.2, random_state=42)\n",
    "\n",
    "# Normalize the features\n",
    "scaler = StandardScaler()\n",
    "X_train = scaler.fit_transform(X_train)\n",
    "X_test = scaler.transform(X_test)\n",
    "\n",
    "# Convert to PyTorch tensors\n",
    "X_train_tensor = torch.tensor(X_train, dtype=torch.float32)\n",
    "y_train_tensor = torch.tensor(y_train, dtype=torch.long)  # Use long tensor for classification labels\n",
    "X_test_tensor = torch.tensor(X_test, dtype=torch.float32)\n",
    "y_test_tensor = torch.tensor(y_test, dtype=torch.long)\n",
    "\n",
    "# Create TensorDataset and DataLoader\n",
    "train_dataset = TensorDataset(X_train_tensor, y_train_tensor)\n",
    "test_dataset = TensorDataset(X_test_tensor, y_test_tensor)\n",
    "\n",
    "train_loader = DataLoader(train_dataset, batch_size=32, shuffle=True)\n",
    "test_loader = DataLoader(test_dataset, batch_size=32, shuffle=False)"
   ]
  },
  {
   "cell_type": "code",
   "execution_count": 6,
   "id": "f5ee0ba5",
   "metadata": {},
   "outputs": [
    {
     "name": "stdout",
     "output_type": "stream",
     "text": [
      "Samples in training data: 6288\n",
      "Samples in test data: 1573\n"
     ]
    }
   ],
   "source": [
    "print(f\"Samples in training data: {len(train_dataset)}\")\n",
    "print(f\"Samples in test data: {len(test_dataset)}\")"
   ]
  },
  {
   "cell_type": "code",
   "execution_count": 7,
   "id": "76446790",
   "metadata": {},
   "outputs": [
    {
     "name": "stdout",
     "output_type": "stream",
     "text": [
      "{0: 'Line A Line B to Ground Fault', 1: 'Line-to-Line AB', 2: 'Line-to-Line with Ground BC', 3: 'No Fault', 4: 'Three-Phase', 5: 'Three-Phase with Ground'}\n"
     ]
    }
   ],
   "source": [
    "# Show the mapping from target value to class name using label_encoder.classes_\n",
    "class_names = label_encoder.classes_\n",
    "class_name_mapping = {class_id: class_name for class_id, class_name in enumerate(class_names)}\n",
    "print(class_name_mapping)"
   ]
  },
  {
   "cell_type": "markdown",
   "id": "66cfec5a",
   "metadata": {},
   "source": [
    "### 2.2. Dataloader"
   ]
  },
  {
   "cell_type": "markdown",
   "id": "2d672459",
   "metadata": {},
   "source": [
    "When training neural networks, we usually use mini-batches of data for each forward + backward pass. \n",
    "\n",
    "In order to obtain those mini-batches, we must pass our dataset through `torch.utils.DataLoader`, which combines the dataset and a sampler, and returns an iterable over the data and labels of our dataset.\n",
    "\n",
    "In this exercise, we'll pick a batch size of 32."
   ]
  },
  {
   "cell_type": "code",
   "execution_count": 8,
   "id": "8f391285",
   "metadata": {},
   "outputs": [],
   "source": [
    "batch_size = 32\n",
    "\n",
    "# Create TensorDataset and DataLoader for training data\n",
    "train_dataset = TensorDataset(X_train_tensor, y_train_tensor)\n",
    "train_loader = DataLoader(train_dataset, batch_size=batch_size, shuffle=True)\n",
    "\n",
    "# Create TensorDataset and DataLoader for test data\n",
    "test_dataset = TensorDataset(X_test_tensor, y_test_tensor)\n",
    "test_loader = DataLoader(test_dataset, batch_size=batch_size, shuffle=False)"
   ]
  },
  {
   "cell_type": "markdown",
   "id": "72e60f5e",
   "metadata": {},
   "source": [
    "Let's take a look at one of our batches."
   ]
  },
  {
   "cell_type": "code",
   "execution_count": 9,
   "id": "09009127",
   "metadata": {
    "tags": []
   },
   "outputs": [],
   "source": [
    "features, target = next(iter(train_loader))"
   ]
  },
  {
   "cell_type": "markdown",
   "id": "f6092174",
   "metadata": {},
   "source": [
    "Let's check the size of a batch of our dataloader."
   ]
  },
  {
   "cell_type": "code",
   "execution_count": 10,
   "id": "d5d1608f",
   "metadata": {},
   "outputs": [
    {
     "name": "stdout",
     "output_type": "stream",
     "text": [
      "torch.Size([32, 6])\n"
     ]
    }
   ],
   "source": [
    "print(features.shape)"
   ]
  },
  {
   "cell_type": "code",
   "execution_count": 11,
   "id": "bcc9228b",
   "metadata": {},
   "outputs": [
    {
     "name": "stdout",
     "output_type": "stream",
     "text": [
      "torch.Size([32])\n"
     ]
    }
   ],
   "source": [
    "print(target.shape)"
   ]
  },
  {
   "cell_type": "markdown",
   "id": "6ed37d45",
   "metadata": {},
   "source": [
    "If everything looks good, let's build our first model using PyTorch."
   ]
  },
  {
   "cell_type": "markdown",
   "id": "68e67b9b",
   "metadata": {},
   "source": [
    "## 3. Simple model"
   ]
  },
  {
   "cell_type": "markdown",
   "id": "01693aa9",
   "metadata": {},
   "source": [
    "First, we'll build a simple classifier (akin to logistic regression)."
   ]
  },
  {
   "cell_type": "markdown",
   "id": "309a7e38",
   "metadata": {},
   "source": [
    "###  3.1 Network architecture"
   ]
  },
  {
   "cell_type": "markdown",
   "id": "10da873a",
   "metadata": {},
   "source": [
    "#### Short primer on `nn.Module`\n",
    "\n",
    "In PyTorch, each neural net architecture is a subclass of `nn.Module` ([Documentation](https://pytorch.org/docs/stable/generated/torch.nn.Module.html))\n",
    "\n",
    "To quote an [official tutorial](https://pytorch.org/tutorials/beginner/nlp/deep_learning_tutorial.html?highlight=module):\n",
    "\n",
    "> All network components should inherit from `nn.Module` and override the `forward()` method. That is about it, as far as the boilerplate is concerned. Inheriting from `nn.Module` provides functionality to your component. For example, it makes it keep track of its trainable parameters, you can swap it between CPU and GPU with the `.to(device)` method, where device can be a CPU device `torch.device(\"cpu\")` or CUDA device `torch.device(\"cuda:0\")`.\n",
    "\n",
    "\n",
    "In order to implement your model, you'll therefore need to fill in two methods:\n",
    "\n",
    "**`__init__()`**: \n",
    "\n",
    "- Initialize your layers here, so that the module can keep track of these layers' parameters. \n",
    "- It is not necessary to initialize layers with no learnable parameters (e.g. `ReLU`), as you can use  the`nn.functional` API for those if you want.\n",
    "\n",
    "**`forward()`**:\n",
    "\n",
    "- Define your model architecture here (i.e. call your layers in the desired order). You can use any of the Tensor operations in the `forward` function.\n",
    "- This function defines the computation performed at every call. The backward function (where gradients are computed) is automatically defined for you using autograd. \n",
    "\n",
    "The learnable parameters of a model are returned by `model.parameters()`."
   ]
  },
  {
   "cell_type": "markdown",
   "id": "1c813fea",
   "metadata": {},
   "source": [
    "#### One layer neural net\n",
    "\n",
    "You should implement a one-layer network as follows:\n",
    "- A fully-connected layer from the input of shape (6,) to the output layer of shape (13,) as we have 13 different classes.\n",
    "\n",
    "Note that there is no hidden layer here. \n",
    "\n",
    "Furthermore, the output layer provides a real value corresponding to each of the 6 classes. Hence, to use this network for classification, we can use a cross-entropy loss:: [`CrossEntropyLoss()` module](https://pytorch.org/docs/stable/generated/torch.nn.CrossEntropyLoss.html). Hence, we can obtain the probability of each of the 6 classes after training the network.\n",
    "\n",
    "As a result, we also added a `predict()` method that adds this softmax layer, it'll be useful later on.\n",
    "\n",
    "Notice that we use `class` from python to define the neural network. For a brief introduction to this, go back to Section 8 of the exercise 01-python."
   ]
  },
  {
   "cell_type": "markdown",
   "id": "17a8bd96",
   "metadata": {},
   "source": [
    "**One layer neural net:**\n",
    "\n",
    "<img src=\"images/1_layer_net.png\" style=\"width:300px\"/>"
   ]
  },
  {
   "cell_type": "code",
   "execution_count": 12,
   "id": "4085b081",
   "metadata": {},
   "outputs": [],
   "source": [
    "class OneLayerNet(nn.Module):\n",
    "    \"\"\"1-Layer Fault Classifier\"\"\"\n",
    "\n",
    "    def __init__(self, input_size, output_size):\n",
    "        super().__init__()\n",
    "        self.fc = nn.Linear(input_size, output_size)\n",
    "\n",
    "    def forward(self, x):\n",
    "        out = self.fc(x)\n",
    "        return out\n",
    "\n",
    "    def predict(self, x):\n",
    "        logits = self.forward(x)\n",
    "        return F.softmax(logits, dim=1)\n",
    "\n",
    "input_size = 6\n",
    "output_size = 13\n",
    "\n",
    "model = OneLayerNet(input_size, output_size)"
   ]
  },
  {
   "cell_type": "markdown",
   "id": "04963a6c",
   "metadata": {
    "tags": []
   },
   "source": [
    "**Question:** How many trainable parameters (weights) does this network have?"
   ]
  },
  {
   "cell_type": "markdown",
   "id": "af6389f2",
   "metadata": {},
   "source": [
    "**Answer:**\n",
    "6 * 13 + 13 (bias) = 91 weights\n",
    "    "
   ]
  },
  {
   "cell_type": "markdown",
   "id": "be1194cb",
   "metadata": {},
   "source": [
    "### 3.2. Loss function and optimizer"
   ]
  },
  {
   "cell_type": "markdown",
   "id": "f018cdf4",
   "metadata": {},
   "source": [
    "As mentioned, we choose Cross Entropy loss as our loss function. For training, we use Stochastic Gradient Descent (SGD) with a learning rate of 0.02 as our optimizer."
   ]
  },
  {
   "cell_type": "code",
   "execution_count": 13,
   "id": "9f4bc144",
   "metadata": {},
   "outputs": [],
   "source": [
    "loss_fn = nn.CrossEntropyLoss()\n",
    "optimizer = optim.SGD(model.parameters(), lr=0.02)"
   ]
  },
  {
   "cell_type": "markdown",
   "id": "4709e276",
   "metadata": {},
   "source": [
    "### 3.3. Training loop"
   ]
  },
  {
   "cell_type": "markdown",
   "id": "1d1557a8",
   "metadata": {},
   "source": [
    "The training loop can be defined as follows:\n",
    "\n",
    "```\n",
    "For each batch in the dataset:\n",
    "   1. Load the batch\n",
    "   2. Zero-out the accumulated gradients (PyTorch accumulates gradients during each iteration of an epoch. this is useful for some other neural network training tasks but not for our exercise).\n",
    "   3. Run the forward pass through your model.\n",
    "   4. Compute the loss.\n",
    "   5. Run the backward pass, i.e. compute gradients of the loss w.r.t. to the weights.\n",
    "   6. Update the weights using the optimizer.\n",
    "```\n",
    "\n",
    "Take a look at the `train()` function written for you below."
   ]
  },
  {
   "cell_type": "code",
   "execution_count": 14,
   "id": "9c34f809",
   "metadata": {},
   "outputs": [],
   "source": [
    "def train(model, train_loader, loss_fn, optimizer, epochs, seed=None):\n",
    "    \"\"\"\n",
    "    Train the model with the given parameters.\n",
    "    \n",
    "    Parameters:\n",
    "    model (torch.nn.Module): The model to train.\n",
    "    train_loader (torch.utils.data.DataLoader): DataLoader for the training data.\n",
    "    loss_fn (torch.nn.Module): The loss function.\n",
    "    optimizer (torch.optim.Optimizer): The optimizer.\n",
    "    epochs (int): Number of epochs to train for.\n",
    "    seed (int, optional): Random seed for reproducibility. Default is None.\n",
    "    \"\"\"\n",
    "\n",
    "    if seed is not None:\n",
    "        helpers.set_seed(seed)\n",
    "    \n",
    "    # Initialize metrics for loss and accuracy (assuming they are custom implementations)\n",
    "    loss_metric = metrics.LossMetric()  # Placeholder for your LossMetric class\n",
    "    acc_metric = metrics.AccuracyMetric(k=1)  # Placeholder for your AccuracyMetric class\n",
    "    \n",
    "    # Lists to store loss and accuracy for each epoch\n",
    "    train_losses = []\n",
    "    train_accuracies = []\n",
    "    \n",
    "    # Set the model in training mode\n",
    "    model.train()\n",
    "    \n",
    "    for epoch in range(1, epochs + 1):\n",
    "        # Iterate through the data\n",
    "        for data, target in train_loader:\n",
    "            # Zero out the gradients\n",
    "            optimizer.zero_grad()\n",
    "            \n",
    "            # Forward pass\n",
    "            output = model(data)\n",
    "            \n",
    "            # Compute the loss\n",
    "            loss = loss_fn(output, target)\n",
    "            \n",
    "            # Backward pass\n",
    "            loss.backward()\n",
    "            \n",
    "            # Optimizer step\n",
    "            optimizer.step()\n",
    "            \n",
    "            # Update metrics\n",
    "            loss_metric.update(loss.item(), data.size(0))\n",
    "            acc_metric.update(output, target)\n",
    "        \n",
    "        # Compute and store metrics for the epoch\n",
    "        epoch_loss = loss_metric.compute()\n",
    "        epoch_acc = acc_metric.compute() * 100\n",
    "        train_losses.append(epoch_loss)\n",
    "        train_accuracies.append(epoch_acc)\n",
    "        \n",
    "        # Print epoch summary every 20 epochs\n",
    "        if epoch % 20 == 0 or epoch == epochs:\n",
    "            print(f\"Epoch {epoch}/{epochs} - Train loss: {epoch_loss:.3f} | Train acc: {epoch_acc:.2f}%\")\n",
    "        \n",
    "        # Reset metrics for next epoch\n",
    "        loss_metric.reset()\n",
    "        acc_metric.reset()\n",
    "    \n",
    "    # Plot the evolution of loss and accuracy\n",
    "    plt.figure(figsize=(12, 5))\n",
    "\n",
    "    plt.subplot(1, 2, 1)\n",
    "    plt.plot(range(1, epochs + 1), train_losses, label='Train Loss')\n",
    "    plt.xlabel('Epochs')\n",
    "    plt.ylabel('Loss')\n",
    "    plt.title('Training Loss Over Epochs')\n",
    "    plt.legend()\n",
    "\n",
    "    plt.subplot(1, 2, 2)\n",
    "    plt.plot(range(1, epochs + 1), train_accuracies, label='Train Accuracy')\n",
    "    plt.xlabel('Epochs')\n",
    "    plt.ylabel('Accuracy (%)')\n",
    "    plt.title('Training Accuracy Over Epochs')\n",
    "    plt.legend()\n",
    "\n",
    "    plt.tight_layout()\n",
    "    plt.show()"
   ]
  },
  {
   "cell_type": "markdown",
   "id": "33215fc7",
   "metadata": {},
   "source": [
    "**Question:** How many iterations are in each epoch? "
   ]
  },
  {
   "cell_type": "markdown",
   "id": "5a0e63a3",
   "metadata": {},
   "source": [
    "**Answer:** There are 6288/32 $\\approx$ 175 iterations"
   ]
  },
  {
   "cell_type": "markdown",
   "id": "5205df2a",
   "metadata": {},
   "source": [
    "Now that the train function is defined, it's time to actually train your model."
   ]
  },
  {
   "cell_type": "code",
   "execution_count": 15,
   "id": "766d6037",
   "metadata": {},
   "outputs": [
    {
     "name": "stdout",
     "output_type": "stream",
     "text": [
      "Epoch 20/50 - Train loss: 1.757 | Train acc: 34.78%\n",
      "Epoch 40/50 - Train loss: 1.733 | Train acc: 35.67%\n",
      "Epoch 50/50 - Train loss: 1.729 | Train acc: 35.15%\n"
     ]
    },
    {
     "data": {
      "image/png": "[encoded data removed]",
      "text/plain": [
       "<Figure size 864x360 with 2 Axes>"
      ]
     },
     "metadata": {
      "needs_background": "light"
     },
     "output_type": "display_data"
    }
   ],
   "source": [
    "# Train model for 50 epochs\n",
    "train(model, train_loader, loss_fn, optimizer, epochs=50, seed=42)"
   ]
  },
  {
   "cell_type": "markdown",
   "id": "79cc4fa1",
   "metadata": {
    "tags": []
   },
   "source": [
    "### 3.4. Test accuracy\n",
    "\n",
    "You should now have a model with approximately 35% training accuracy, but this doesn't tell the whole story. In order to actually estimate how good (or rather how bad in this case) our model is, we need to check its accuracy on the test set.\n",
    "\n",
    "Look through the function `test()` which computes the test accuracy of a given model on a specific dataset.\n",
    "\n",
    "This function iterates through a dataset once (using a DataLoader) and displays the accuracy."
   ]
  },
  {
   "cell_type": "code",
   "execution_count": 16,
   "id": "58140e17",
   "metadata": {},
   "outputs": [],
   "source": [
    "def test(model: torch.nn.Module, dataloader: torch.utils.data.DataLoader, seed=None):\n",
    "    \"\"\"\n",
    "    Evaluates the accuracy of a neural network model on the given data.\n",
    "\n",
    "    This function evaluates the performance of a neural network model by calculating\n",
    "    the accuracy on the provided dataloader. It uses a progress bar to indicate\n",
    "    the completion status during evaluation and prints the final accuracy.\n",
    "\n",
    "    Args:\n",
    "        model (torch.nn.Module): The neural network model to evaluate.\n",
    "        dataloader (torch.utils.data.DataLoader): DataLoader for the evaluation data.\n",
    "\n",
    "    Returns:\n",
    "        None\n",
    "    \"\"\"\n",
    "    if seed:\n",
    "        helpers.set_seed(seed)\n",
    "\n",
    "    # Initialize accuracy metric\n",
    "    acc_metric = metrics.AccuracyMetric(k=1)\n",
    "\n",
    "    # Progress bar setup\n",
    "    pbar = tqdm(total=len(dataloader), leave=True)\n",
    "\n",
    "    # Set the model in evaluation mode\n",
    "    model.eval()\n",
    "\n",
    "    with torch.no_grad():\n",
    "        # Iterate through data\n",
    "        for data, target in dataloader:\n",
    "            # Forward pass\n",
    "            out = model(data)\n",
    "\n",
    "            # Update accuracy metric\n",
    "            acc_metric.update(out, target)\n",
    "\n",
    "            # Update progress bar\n",
    "            pbar.update()\n",
    "\n",
    "    # Compute and display accuracy\n",
    "    test_acc = acc_metric.compute() * 100\n",
    "    pbar.set_postfix_str(f\"Acc: {test_acc:.2f}%\")\n",
    "    print(f\"Accuracy: {test_acc:.2f}%\")"
   ]
  },
  {
   "cell_type": "code",
   "execution_count": 17,
   "id": "49b69431",
   "metadata": {},
   "outputs": [
    {
     "data": {
      "application/vnd.jupyter.widget-view+json": {
       "model_id": "0543e6176d584350bec06233f8ceecd7",
       "version_major": 2,
       "version_minor": 0
      },
      "text/plain": [
       "HBox(children=(FloatProgress(value=0.0, max=50.0), HTML(value='')))"
      ]
     },
     "metadata": {},
     "output_type": "display_data"
    },
    {
     "name": "stdout",
     "output_type": "stream",
     "text": [
      "Accuracy: 35.92%\n"
     ]
    }
   ],
   "source": [
    "test(model, test_loader, seed=42)"
   ]
  },
  {
   "cell_type": "markdown",
   "id": "f7327a41",
   "metadata": {},
   "source": [
    "**Expected result:** $\\approx$ 36% test accuracy."
   ]
  },
  {
   "cell_type": "markdown",
   "id": "4125fc33",
   "metadata": {},
   "source": [
    "__Question:__ How does the test accuracy compare with the training accuracy? Do we have overfit?"
   ]
  },
  {
   "cell_type": "markdown",
   "id": "a755b107",
   "metadata": {},
   "source": [
    "__Answer:__ Training and test accuracies are very similar. There is no overfit. It is quite the opposite in fact, the model underfits: the logistic regression model is probably too simple for the data."
   ]
  },
  {
   "cell_type": "markdown",
   "id": "02145920",
   "metadata": {},
   "source": [
    "__Question:__ How does our logistic model compare with a random classifier?"
   ]
  },
  {
   "cell_type": "markdown",
   "id": "4c2685a8",
   "metadata": {},
   "source": [
    "__Answer:__ A random classifier would only get an accuracy of ~16.7% (as there are 6 classes). 35 % is therefore reassuringly already a good improvement."
   ]
  },
  {
   "cell_type": "markdown",
   "id": "bb7c6ed0",
   "metadata": {},
   "source": [
    "Let's not stop there, though, and try to do better with just a few small changes."
   ]
  },
  {
   "cell_type": "markdown",
   "id": "62c1003d",
   "metadata": {},
   "source": [
    "## 4. Simple neural net (with hidden layers)"
   ]
  },
  {
   "cell_type": "markdown",
   "id": "666f9af0",
   "metadata": {},
   "source": [
    "Time to implement (actual) neural networks. As you'll soon see, the entire pipeline is very similar, only the network architecture changes."
   ]
  },
  {
   "cell_type": "markdown",
   "id": "2b46795b",
   "metadata": {},
   "source": [
    "#### Network architecture\n",
    "\n",
    "You should implement a three-layer fully-connected neural net (2 hidden layers) composed of the following:\n",
    "- A fully-connected layer from the input of shape (6,) to the first hidden layer of shape (10, ), with ReLU as an activation.\n",
    "- A fully-connected layer from the first hidden layer of shape (10,) to the second hidden layer of shape (10, ), with ReLU as an activation.\n",
    "- A fully-connected layer from the second hidden layer of shape (10,) to the output layer of shape (13,).\n",
    "\n",
    "Fully connected neural networks (FCNNs) are sometimes also referred to as multilayer perceptrons (MLP) in ML literature.\n",
    "\n",
    "**Note:** You can use the OneLayerNet function above and simply fill in additional information for the layers below"
   ]
  },
  {
   "cell_type": "markdown",
   "id": "c285970d",
   "metadata": {},
   "source": [
    "**Three-layer neural net:**\n",
    "\n",
    "<img src=\"images/3_layer_net.png\" style=\"width:300px\"/>"
   ]
  },
  {
   "cell_type": "code",
   "execution_count": 18,
   "id": "08ac0189",
   "metadata": {},
   "outputs": [],
   "source": [
    "class ThreeLayerNet(nn.Module):\n",
    "    \"\"\"3-Layer neural net\"\"\"\n",
    "    \n",
    "    def __init__(self, input_size, output_size, hidden_layer_size=10):\n",
    "        super().__init__()\n",
    "\n",
    "        self.fc1 = nn.Linear(input_size, hidden_layer_size)\n",
    "        ### START CODE HERE ###\n",
    "        ### Hint: you need two more linear layers here of appropriate dimension\n",
    "        self.fc2 = nn.Linear(hidden_layer_size, hidden_layer_size)\n",
    "        self.fc3 = nn.Linear(hidden_layer_size, output_size)\n",
    "        ### END CODE HERE ###\n",
    "\n",
    "    def forward(self, x: torch.Tensor) -> torch.Tensor:\n",
    "        x = F.relu(self.fc1(x))\n",
    "        ### START CODE HERE ###\n",
    "        ### Hint: you need one more relu layer and the output layer     \n",
    "        x = F.relu(self.fc2(x))\n",
    "        out = self.fc3(x)\n",
    "        return out\n",
    "        ### END CODE HERE ###\n",
    "\n",
    "    def predict(self, x: torch.Tensor) -> torch.Tensor:\n",
    "        \"\"\"Predicts classes by calculating the softmax\"\"\"\n",
    "        logits = self.forward(x)\n",
    "        return F.softmax(logits, dim=1)\n",
    "\n",
    "\n",
    "input_size = 6\n",
    "output_size = 13\n",
    "\n",
    "model = ThreeLayerNet(input_size, output_size)"
   ]
  },
  {
   "cell_type": "markdown",
   "id": "d40702b1",
   "metadata": {},
   "source": [
    "**Question:** How many trainable parameters (weights) does this network have?"
   ]
  },
  {
   "cell_type": "markdown",
   "id": "5030cd0c",
   "metadata": {},
   "source": [
    "**Answer:**\n",
    "- First layer: (6 * 10) + 10 (bias) = 70\n",
    "- Second layer: (10 * 10) + 10 (bias) = 110\n",
    "- Third layer: (10 * 13) + 13 (bias) = 143\n",
    "- **Total: 70 + 110 + 143 = 323 weights**\n",
    "    "
   ]
  },
  {
   "cell_type": "markdown",
   "id": "4034c345",
   "metadata": {},
   "source": [
    "#### Loss & optimizer\n",
    "\n",
    "Use the same loss function and optimizer as in the previous section. Namely, the Cross-Entropy loss and SGD with lr=0.02."
   ]
  },
  {
   "cell_type": "code",
   "execution_count": 19,
   "id": "37dad525",
   "metadata": {},
   "outputs": [],
   "source": [
    "### START CODE HERE ###\n",
    "loss_fn = nn.CrossEntropyLoss()\n",
    "optimizer = optim.SGD(model.parameters(), lr=0.02)\n",
    "### END CODE HERE ###"
   ]
  },
  {
   "cell_type": "markdown",
   "id": "6717c97d",
   "metadata": {},
   "source": [
    "#### Training"
   ]
  },
  {
   "cell_type": "markdown",
   "id": "c8cb4d53",
   "metadata": {},
   "source": [
    "Use `train()` to launch the training process, use the same number of epochs and seed as in the previous part."
   ]
  },
  {
   "cell_type": "code",
   "execution_count": 20,
   "id": "3f4d26c4",
   "metadata": {},
   "outputs": [
    {
     "name": "stdout",
     "output_type": "stream",
     "text": [
      "Epoch 20/50 - Train loss: 0.498 | Train acc: 76.57%\n",
      "Epoch 40/50 - Train loss: 0.374 | Train acc: 81.09%\n",
      "Epoch 50/50 - Train loss: 0.349 | Train acc: 81.49%\n",
      "\n"
     ]
    },
    {
     "data": {
      "image/png": "[encoded data removed]",
      "text/plain": [
       "<Figure size 864x360 with 2 Axes>"
      ]
     },
     "metadata": {
      "needs_background": "light"
     },
     "output_type": "display_data"
    }
   ],
   "source": [
    "### START CODE HERE ###\n",
    "train(model, train_loader, loss_fn, optimizer, epochs=50, seed=42)\n",
    "### END CODE HERE ###"
   ]
  },
  {
   "cell_type": "markdown",
   "id": "4964f86b",
   "metadata": {},
   "source": [
    "#### Test accuracy"
   ]
  },
  {
   "cell_type": "markdown",
   "id": "d26e09d2",
   "metadata": {},
   "source": [
    "Compute the test accuracy using `test()` with a seed of 42."
   ]
  },
  {
   "cell_type": "code",
   "execution_count": 21,
   "id": "dc5071e8",
   "metadata": {},
   "outputs": [
    {
     "data": {
      "application/vnd.jupyter.widget-view+json": {
       "model_id": "c40cb1674def487598cb65f4dae299a7",
       "version_major": 2,
       "version_minor": 0
      },
      "text/plain": [
       "HBox(children=(FloatProgress(value=0.0, max=50.0), HTML(value='')))"
      ]
     },
     "metadata": {},
     "output_type": "display_data"
    },
    {
     "name": "stdout",
     "output_type": "stream",
     "text": [
      "Accuracy: 82.71%\n"
     ]
    }
   ],
   "source": [
    "### START CODE HERE ###\n",
    "test(model, test_loader, seed=42)\n",
    "### END CODE HERE ###"
   ]
  },
  {
   "cell_type": "markdown",
   "id": "490c8e18",
   "metadata": {},
   "source": [
    "**Expected result:** $\\approx$ 83 % test accuracy."
   ]
  },
  {
   "cell_type": "markdown",
   "id": "01d67953",
   "metadata": {},
   "source": [
    "Great job so far! Now that we know how to train a neural network for classification, let's implement a network for regression. You will see, the pipeline will hardly change in the process."
   ]
  },
  {
   "cell_type": "markdown",
   "id": "51c2c583",
   "metadata": {},
   "source": [
    "# Exercise 3: Simple neural net for regression"
   ]
  },
  {
   "cell_type": "markdown",
   "id": "de65311a",
   "metadata": {},
   "source": [
    "### 0. Introduction"
   ]
  },
  {
   "cell_type": "markdown",
   "id": "88f6ad7a",
   "metadata": {},
   "source": [
    "*__Background:__ You're a materials scientist working for a leading research institute focused on the electric breakdown behavior of materials. Your team has compiled a dataset that includes measurements of various semiconductor and insulator materials, documenting their intrinsic dielectric breakdown fields alongside several experimental and calculated features. Your task is to develop a predictive model that can estimate the intrinsic dielectric breakdown field of a material based on its properties. This model will assist in the discovery of new materials with superior dielectric properties and contribute to the formulation of phenomenological laws governing electric breakdown field strength. By understanding and predicting dielectric breakdown, you aim to enhance the reliability and efficiency of electronic devices and systems that rely on these materials.*\n",
    "\n",
    "<img src=\"images/dielectric_breakdown.png\" style=\"width:500px\"/>\n",
    "\n",
    "[Source](https://www.matsusada.com/application/ps/dielectric_breakdown_testing/)"
   ]
  },
  {
   "cell_type": "markdown",
   "id": "cb22e654",
   "metadata": {},
   "source": [
    "### 1. Data loading & pre-processing"
   ]
  },
  {
   "cell_type": "markdown",
   "id": "7ac9fd42",
   "metadata": {},
   "source": [
    "As usual, let's start by loading and pre-processing the data. The data for this exercise can be found [here](https://www.kaggle.com/datasets/chaozhuang/dielectric-breakdown-prediction-dataset/data). It is taken from the paper [From Organized High-Throughput Data to Phenomenological\n",
    "Theory using Machine Learning: The Example of Dielectric\n",
    "Breakdown](https://ramprasad.mse.gatech.edu/wp-content/uploads/2018/03/138.pdf)."
   ]
  },
  {
   "cell_type": "code",
   "execution_count": 22,
   "id": "66a61abd",
   "metadata": {},
   "outputs": [
    {
     "data": {
      "text/html": [
       "<div>\n",
       "<style scoped>\n",
       "    .dataframe tbody tr th:only-of-type {\n",
       "        vertical-align: middle;\n",
       "    }\n",
       "\n",
       "    .dataframe tbody tr th {\n",
       "        vertical-align: top;\n",
       "    }\n",
       "\n",
       "    .dataframe thead th {\n",
       "        text-align: right;\n",
       "    }\n",
       "</style>\n",
       "<table border=\"1\" class=\"dataframe\">\n",
       "  <thead>\n",
       "    <tr style=\"text-align: right;\">\n",
       "      <th></th>\n",
       "      <th>name</th>\n",
       "      <th>experimental_band_gap</th>\n",
       "      <th>phonon_cutoff_frequency</th>\n",
       "      <th>mean_phonon_frequency</th>\n",
       "      <th>electronic_contribution_of_dielectric_constant</th>\n",
       "      <th>total_dielectric_constant</th>\n",
       "      <th>nearest_neighbor_distance</th>\n",
       "      <th>density</th>\n",
       "      <th>bulk_modulus</th>\n",
       "      <th>structure</th>\n",
       "      <th>category</th>\n",
       "      <th>log_breakdown_field</th>\n",
       "    </tr>\n",
       "  </thead>\n",
       "  <tbody>\n",
       "    <tr>\n",
       "      <th>0</th>\n",
       "      <td>LiF</td>\n",
       "      <td>13.6</td>\n",
       "      <td>19.599</td>\n",
       "      <td>10.435</td>\n",
       "      <td>2.068</td>\n",
       "      <td>7.936</td>\n",
       "      <td>1.943</td>\n",
       "      <td>2.938</td>\n",
       "      <td>86.582</td>\n",
       "      <td>RS</td>\n",
       "      <td>Alkali_metal_halides</td>\n",
       "      <td>8.482519</td>\n",
       "    </tr>\n",
       "    <tr>\n",
       "      <th>1</th>\n",
       "      <td>LiCl</td>\n",
       "      <td>9.4</td>\n",
       "      <td>12.531</td>\n",
       "      <td>6.301</td>\n",
       "      <td>3.150</td>\n",
       "      <td>10.003</td>\n",
       "      <td>2.477</td>\n",
       "      <td>2.317</td>\n",
       "      <td>40.537</td>\n",
       "      <td>RS</td>\n",
       "      <td>Alkali_metal_halides</td>\n",
       "      <td>6.521799</td>\n",
       "    </tr>\n",
       "    <tr>\n",
       "      <th>2</th>\n",
       "      <td>LiBr</td>\n",
       "      <td>7.6</td>\n",
       "      <td>11.188</td>\n",
       "      <td>4.934</td>\n",
       "      <td>3.664</td>\n",
       "      <td>11.287</td>\n",
       "      <td>2.653</td>\n",
       "      <td>3.862</td>\n",
       "      <td>32.869</td>\n",
       "      <td>RS</td>\n",
       "      <td>Alkali_metal_halides</td>\n",
       "      <td>6.171909</td>\n",
       "    </tr>\n",
       "    <tr>\n",
       "      <th>3</th>\n",
       "      <td>LiI</td>\n",
       "      <td>6.1</td>\n",
       "      <td>9.701</td>\n",
       "      <td>4.113</td>\n",
       "      <td>4.465</td>\n",
       "      <td>12.667</td>\n",
       "      <td>2.897</td>\n",
       "      <td>4.569</td>\n",
       "      <td>25.476</td>\n",
       "      <td>RS</td>\n",
       "      <td>Alkali_metal_halides</td>\n",
       "      <td>5.944111</td>\n",
       "    </tr>\n",
       "    <tr>\n",
       "      <th>4</th>\n",
       "      <td>NaF</td>\n",
       "      <td>11.5</td>\n",
       "      <td>12.275</td>\n",
       "      <td>7.416</td>\n",
       "      <td>1.821</td>\n",
       "      <td>4.170</td>\n",
       "      <td>2.227</td>\n",
       "      <td>3.156</td>\n",
       "      <td>61.943</td>\n",
       "      <td>RS</td>\n",
       "      <td>Alkali_metal_halides</td>\n",
       "      <td>6.968568</td>\n",
       "    </tr>\n",
       "  </tbody>\n",
       "</table>\n",
       "</div>"
      ],
      "text/plain": [
       "   name  experimental_band_gap  phonon_cutoff_frequency  \\\n",
       "0   LiF                   13.6                   19.599   \n",
       "1  LiCl                    9.4                   12.531   \n",
       "2  LiBr                    7.6                   11.188   \n",
       "3   LiI                    6.1                    9.701   \n",
       "4   NaF                   11.5                   12.275   \n",
       "\n",
       "   mean_phonon_frequency  electronic_contribution_of_dielectric_constant  \\\n",
       "0                 10.435                                           2.068   \n",
       "1                  6.301                                           3.150   \n",
       "2                  4.934                                           3.664   \n",
       "3                  4.113                                           4.465   \n",
       "4                  7.416                                           1.821   \n",
       "\n",
       "   total_dielectric_constant  nearest_neighbor_distance  density  \\\n",
       "0                      7.936                      1.943    2.938   \n",
       "1                     10.003                      2.477    2.317   \n",
       "2                     11.287                      2.653    3.862   \n",
       "3                     12.667                      2.897    4.569   \n",
       "4                      4.170                      2.227    3.156   \n",
       "\n",
       "   bulk_modulus structure              category  log_breakdown_field  \n",
       "0        86.582        RS  Alkali_metal_halides             8.482519  \n",
       "1        40.537        RS  Alkali_metal_halides             6.521799  \n",
       "2        32.869        RS  Alkali_metal_halides             6.171909  \n",
       "3        25.476        RS  Alkali_metal_halides             5.944111  \n",
       "4        61.943        RS  Alkali_metal_halides             6.968568  "
      ]
     },
     "execution_count": 22,
     "metadata": {},
     "output_type": "execute_result"
    }
   ],
   "source": [
    "# Load data\n",
    "df = pd.read_csv(\"data/dielectric.csv\")\n",
    "df = df.drop_duplicates()\n",
    "df.head()"
   ]
  },
  {
   "cell_type": "code",
   "execution_count": 23,
   "id": "aeea2dfc",
   "metadata": {},
   "outputs": [],
   "source": [
    "X = df.drop(['name', 'log_breakdown_field', 'structure', 'category'], axis = 1).values\n",
    "y = df[['log_breakdown_field']].values\n",
    "\n",
    "# Split the data into training and test sets\n",
    "X_train, X_test, y_train, y_test = train_test_split(X, y, test_size=0.2, random_state=42)"
   ]
  },
  {
   "cell_type": "code",
   "execution_count": 24,
   "id": "1a8ff74a",
   "metadata": {},
   "outputs": [],
   "source": [
    "# Normalize the features\n",
    "scaler = StandardScaler()\n",
    "X_train = scaler.fit_transform(X_train)\n",
    "X_test = scaler.transform(X_test)\n",
    "\n",
    "# Convert to PyTorch tensors\n",
    "X_train_tensor = torch.tensor(X_train, dtype=torch.float32)\n",
    "y_train_tensor = torch.tensor(y_train, dtype=torch.float32)\n",
    "X_test_tensor = torch.tensor(X_test, dtype=torch.float32)\n",
    "y_test_tensor = torch.tensor(y_test, dtype=torch.float32)"
   ]
  },
  {
   "cell_type": "code",
   "execution_count": 25,
   "id": "239f77b1",
   "metadata": {},
   "outputs": [
    {
     "data": {
      "text/plain": [
       "(65, 8)"
      ]
     },
     "execution_count": 25,
     "metadata": {},
     "output_type": "execute_result"
    }
   ],
   "source": [
    "X_train.shape"
   ]
  },
  {
   "cell_type": "code",
   "execution_count": 26,
   "id": "ae635132",
   "metadata": {},
   "outputs": [],
   "source": [
    "batch_size = 4\n",
    "\n",
    "# Create TensorDataset and DataLoader for training data\n",
    "train_dataset = TensorDataset(X_train_tensor, y_train_tensor)\n",
    "train_loader = DataLoader(train_dataset, batch_size=batch_size, shuffle=True)\n",
    "\n",
    "# Create TensorDataset and DataLoader for test data\n",
    "test_dataset = TensorDataset(X_test_tensor, y_test_tensor)\n",
    "test_loader = DataLoader(test_dataset, batch_size=batch_size, shuffle=False)"
   ]
  },
  {
   "cell_type": "code",
   "execution_count": 27,
   "id": "6c1a6752",
   "metadata": {},
   "outputs": [
    {
     "name": "stdout",
     "output_type": "stream",
     "text": [
      "Samples in training data: 65\n",
      "Samples in test data: 17\n"
     ]
    }
   ],
   "source": [
    "print(f\"Samples in training data: {len(train_dataset)}\")\n",
    "print(f\"Samples in test data: {len(test_dataset)}\")"
   ]
  },
  {
   "cell_type": "code",
   "execution_count": 28,
   "id": "1a471231",
   "metadata": {},
   "outputs": [],
   "source": [
    "features, target = next(iter(train_loader))"
   ]
  },
  {
   "cell_type": "code",
   "execution_count": 29,
   "id": "f786337a",
   "metadata": {},
   "outputs": [
    {
     "name": "stdout",
     "output_type": "stream",
     "text": [
      "torch.Size([4, 8])\n"
     ]
    }
   ],
   "source": [
    "print(features.shape)"
   ]
  },
  {
   "cell_type": "code",
   "execution_count": 30,
   "id": "005ce027",
   "metadata": {},
   "outputs": [
    {
     "name": "stdout",
     "output_type": "stream",
     "text": [
      "torch.Size([4, 1])\n"
     ]
    }
   ],
   "source": [
    "print(target.shape)"
   ]
  },
  {
   "cell_type": "markdown",
   "id": "5115a8bf",
   "metadata": {},
   "source": [
    "### 2. Simple model for regression"
   ]
  },
  {
   "cell_type": "markdown",
   "id": "a6741eac",
   "metadata": {},
   "source": [
    "#### Network architecture\n",
    "\n",
    "You should implement a three-layer fully-connected neural net (2 hidden layers) composed of the following:\n",
    "- A fully-connected layer from the input of shape (8,) to the first hidden layer of shape (8,), with ReLU as an activation.\n",
    "- A fully-connected layer from the first hidden layer of shape (8,) to the second hidden layer of shape (8, ), with ReLU as an activation.\n",
    "- A fully-connected layer from the second hidden layer of shape (8,) to the output layer of shape (1,).\n",
    "\n",
    "As you can notice, network-wise, the main difference between classification and regression is the shape of the output. Rather than an output size equal to the number of classes, we have one node for the (one) real value that needs to be predicted. \n",
    "\n",
    "Notice also, that the softmax is not applied to the output during prediction. Indeed, we don't need a softmax that squeezes outputs between 0 and 1 anymore, but rather an output that can take any real value."
   ]
  },
  {
   "cell_type": "code",
   "execution_count": 31,
   "id": "0b26fa15",
   "metadata": {},
   "outputs": [],
   "source": [
    "import torch\n",
    "import torch.nn as nn\n",
    "import torch.nn.functional as F \n",
    "\n",
    "class RegressionNet(nn.Module):\n",
    "    \"\"\"3-Layer neural net\"\"\"\n",
    "    \n",
    "    def __init__(self, input_size, output_size, hidden_layer_size=8):\n",
    "        super().__init__()\n",
    "        ### START CODE HERE ###\n",
    "        ### Hint: you need three linear layers here of appropriate dimension\n",
    "        self.fc1 = nn.Linear(input_size, hidden_layer_size)\n",
    "        self.fc2 = nn.Linear(hidden_layer_size, hidden_layer_size)\n",
    "        self.fc3 = nn.Linear(hidden_layer_size, output_size)\n",
    "        ### END CODE HERE ###\n",
    "\n",
    "    def forward(self, x: torch.Tensor) -> torch.Tensor:\n",
    "        ### START CODE HERE ###\n",
    "        ### Hint: you need two relu layers and the output layer \n",
    "        x = F.relu(self.fc1(x))\n",
    "        x = F.relu(self.fc2(x))\n",
    "        out = self.fc3(x)  # Linear output for regression\n",
    "        return out\n",
    "        ### END CODE HERE ###\n",
    "\n",
    "    def predict(self, x: torch.Tensor) -> torch.Tensor:\n",
    "        \"\"\"Predicts excitation current for regression task\"\"\"\n",
    "        prediction = self.forward(x)\n",
    "        return prediction  # Return raw output for regression"
   ]
  },
  {
   "cell_type": "markdown",
   "id": "25cf8fd8",
   "metadata": {},
   "source": [
    "Take a look at the training code below now. You might notice that it is almost identical to the code used for training a classification network. The main difference is the tracked metric. Instead of plotting the accuracy of the model, we will plot the [coefficient of determination $R^2$](https://en.wikipedia.org/wiki/Coefficient_of_determination) to assess the quality of our predictions."
   ]
  },
  {
   "cell_type": "code",
   "execution_count": 32,
   "id": "f78d7e75",
   "metadata": {},
   "outputs": [],
   "source": [
    "def train(model, train_loader, loss_fn, optimizer, epochs, seed=None):   \n",
    "    \"\"\"\n",
    "    Trains a neural network model.\n",
    "\n",
    "    This function trains a neural network model using the provided data loader, loss function, and optimizer.\n",
    "    It tracks and plots the training loss and R² metrics over the specified number of epochs.\n",
    "\n",
    "    Args:\n",
    "        model (nn.Module): The neural network model to train.\n",
    "        train_loader (DataLoader): DataLoader for the training data.\n",
    "        loss_fn (callable): The loss function.\n",
    "        optimizer (torch.optim.Optimizer): The optimizer to use for training.\n",
    "        epochs (int): The number of epochs to train the model.\n",
    "        seed (int, optional): Random seed for reproducibility. Default is None.\n",
    "\n",
    "    Returns:\n",
    "        None\n",
    "    \"\"\"\n",
    "    \n",
    "    if seed:\n",
    "        helpers.set_seed(seed)\n",
    "    \n",
    "    # Initialize metrics for loss and R²\n",
    "    loss_metric = metrics.LossMetric()  # Placeholder for your LossMetric class\n",
    "    r2_metric = metrics.R2Metric()  # Placeholder for your R2Metric class\n",
    "    \n",
    "    # Lists to store loss and R² values\n",
    "    train_losses = []\n",
    "    train_r2 = []\n",
    "    \n",
    "    # Set the model in training mode\n",
    "    model.train()\n",
    "    \n",
    "    for epoch in range(1, epochs + 1):\n",
    "        # Iterate through the data\n",
    "        for data, target in train_loader:\n",
    "            # Zero out the gradients\n",
    "            optimizer.zero_grad()\n",
    "            \n",
    "            # Forward pass\n",
    "            output = model(data)\n",
    "            \n",
    "            # Compute the loss\n",
    "            loss = loss_fn(output, target)\n",
    "            \n",
    "            # Backward pass\n",
    "            loss.backward()\n",
    "            \n",
    "            # Optimizer step\n",
    "            optimizer.step()\n",
    "            \n",
    "            # Update metrics\n",
    "            loss_metric.update(loss.item(), data.size(0))\n",
    "            r2_metric.update(output, target)\n",
    "        \n",
    "        # Compute average metrics for the epoch\n",
    "        epoch_loss = loss_metric.compute()\n",
    "        epoch_r2 = r2_metric.compute()\n",
    "        train_losses.append(epoch_loss)\n",
    "        train_r2.append(epoch_r2)\n",
    "        \n",
    "        # Print epoch summary every 10 epochs\n",
    "        if epoch == 1 or epoch % 10 == 0 or epoch == epochs:\n",
    "            print(f\"Epoch {epoch}/{epochs} - Train loss: {epoch_loss:.3f} - R²: {epoch_r2:.3f}\")\n",
    "        \n",
    "        # Reset metrics for next epoch\n",
    "        loss_metric.reset()\n",
    "        r2_metric.reset()\n",
    "    \n",
    "    # Plot the loss and R² values\n",
    "    plt.figure(figsize=(12, 5))\n",
    "\n",
    "    # Plotting loss\n",
    "    plt.subplot(1, 2, 1)\n",
    "    plt.plot(range(1, epochs + 1), train_losses, label='Train Loss')\n",
    "    plt.xlabel('Epoch')\n",
    "    plt.xscale('log')\n",
    "    plt.ylabel('Loss')\n",
    "    plt.title('Training Loss over Epochs')\n",
    "    plt.legend()\n",
    "    plt.grid(True)\n",
    "\n",
    "    # Plotting R²\n",
    "    plt.subplot(1, 2, 2)\n",
    "    plt.plot(range(1, epochs + 1), train_r2, label='Train R²')\n",
    "    plt.xlabel('Epoch')\n",
    "    plt.xscale('log')\n",
    "    plt.ylabel('R²')\n",
    "    plt.title('Training R² over Epochs')\n",
    "    plt.legend()\n",
    "    plt.grid(True)\n",
    "\n",
    "    plt.tight_layout()\n",
    "    plt.show()"
   ]
  },
  {
   "cell_type": "markdown",
   "id": "4df2c920",
   "metadata": {},
   "source": [
    "Let's run the training now. Notice how we also change the loss used: rather than a cross-entropy loss, we use the Mean Squared Error, similar to what we did in the linear regression notebook.\n",
    "\n",
    "We also opted for [Adam](https://www.geeksforgeeks.org/adam-optimizer/), a more performant optimizer than the usual SGD."
   ]
  },
  {
   "cell_type": "code",
   "execution_count": 33,
   "id": "4839b02d",
   "metadata": {},
   "outputs": [
    {
     "name": "stdout",
     "output_type": "stream",
     "text": [
      "Epoch 1/1000 - Train loss: 20.581 - R²: -26.098\n",
      "Epoch 10/1000 - Train loss: 0.194 - R²: 0.663\n",
      "Epoch 20/1000 - Train loss: 0.204 - R²: 0.726\n",
      "Epoch 30/1000 - Train loss: 0.246 - R²: 0.673\n",
      "Epoch 40/1000 - Train loss: 0.437 - R²: 0.317\n",
      "Epoch 50/1000 - Train loss: 0.256 - R²: 0.598\n",
      "Epoch 60/1000 - Train loss: 0.192 - R²: 0.711\n",
      "Epoch 70/1000 - Train loss: 0.207 - R²: 0.694\n",
      "Epoch 80/1000 - Train loss: 0.220 - R²: 0.742\n",
      "Epoch 90/1000 - Train loss: 0.207 - R²: 0.733\n",
      "Epoch 100/1000 - Train loss: 0.257 - R²: 0.557\n",
      "Epoch 110/1000 - Train loss: 0.259 - R²: 0.624\n",
      "Epoch 120/1000 - Train loss: 0.208 - R²: 0.555\n",
      "Epoch 130/1000 - Train loss: 0.220 - R²: 0.674\n",
      "Epoch 140/1000 - Train loss: 0.195 - R²: 0.717\n",
      "Epoch 150/1000 - Train loss: 0.178 - R²: 0.770\n",
      "Epoch 160/1000 - Train loss: 0.231 - R²: 0.673\n",
      "Epoch 170/1000 - Train loss: 0.207 - R²: 0.759\n",
      "Epoch 180/1000 - Train loss: 0.208 - R²: 0.711\n",
      "Epoch 190/1000 - Train loss: 0.250 - R²: 0.605\n",
      "Epoch 200/1000 - Train loss: 0.258 - R²: 0.612\n",
      "Epoch 210/1000 - Train loss: 0.220 - R²: 0.737\n",
      "Epoch 220/1000 - Train loss: 0.200 - R²: 0.725\n",
      "Epoch 230/1000 - Train loss: 0.252 - R²: 0.631\n",
      "Epoch 240/1000 - Train loss: 0.205 - R²: 0.688\n",
      "Epoch 250/1000 - Train loss: 0.239 - R²: 0.700\n",
      "Epoch 260/1000 - Train loss: 0.209 - R²: 0.728\n",
      "Epoch 270/1000 - Train loss: 0.195 - R²: 0.741\n",
      "Epoch 280/1000 - Train loss: 0.207 - R²: 0.696\n",
      "Epoch 290/1000 - Train loss: 0.215 - R²: 0.684\n",
      "Epoch 300/1000 - Train loss: 0.201 - R²: 0.689\n",
      "Epoch 310/1000 - Train loss: 0.214 - R²: 0.705\n",
      "Epoch 320/1000 - Train loss: 0.244 - R²: 0.656\n",
      "Epoch 330/1000 - Train loss: 0.204 - R²: 0.667\n",
      "Epoch 340/1000 - Train loss: 0.389 - R²: 0.498\n",
      "Epoch 350/1000 - Train loss: 0.294 - R²: 0.622\n",
      "Epoch 360/1000 - Train loss: 0.196 - R²: 0.753\n",
      "Epoch 370/1000 - Train loss: 0.225 - R²: 0.728\n",
      "Epoch 380/1000 - Train loss: 0.253 - R²: 0.675\n",
      "Epoch 390/1000 - Train loss: 0.269 - R²: 0.645\n",
      "Epoch 400/1000 - Train loss: 0.227 - R²: 0.729\n",
      "Epoch 410/1000 - Train loss: 0.233 - R²: 0.689\n",
      "Epoch 420/1000 - Train loss: 0.223 - R²: 0.628\n",
      "Epoch 430/1000 - Train loss: 0.218 - R²: 0.717\n",
      "Epoch 440/1000 - Train loss: 0.236 - R²: 0.620\n",
      "Epoch 450/1000 - Train loss: 0.272 - R²: 0.607\n",
      "Epoch 460/1000 - Train loss: 0.244 - R²: 0.673\n",
      "Epoch 470/1000 - Train loss: 0.203 - R²: 0.720\n",
      "Epoch 480/1000 - Train loss: 0.219 - R²: 0.715\n",
      "Epoch 490/1000 - Train loss: 0.307 - R²: 0.606\n",
      "Epoch 500/1000 - Train loss: 0.224 - R²: 0.705\n",
      "Epoch 510/1000 - Train loss: 0.240 - R²: 0.681\n",
      "Epoch 520/1000 - Train loss: 0.218 - R²: 0.693\n",
      "Epoch 530/1000 - Train loss: 0.225 - R²: 0.683\n",
      "Epoch 540/1000 - Train loss: 0.221 - R²: 0.652\n",
      "Epoch 550/1000 - Train loss: 0.229 - R²: 0.705\n",
      "Epoch 560/1000 - Train loss: 0.233 - R²: 0.696\n",
      "Epoch 570/1000 - Train loss: 0.256 - R²: 0.649\n",
      "Epoch 580/1000 - Train loss: 0.217 - R²: 0.667\n",
      "Epoch 590/1000 - Train loss: 0.235 - R²: 0.623\n",
      "Epoch 600/1000 - Train loss: 0.215 - R²: 0.707\n",
      "Epoch 610/1000 - Train loss: 0.234 - R²: 0.689\n",
      "Epoch 620/1000 - Train loss: 0.216 - R²: 0.710\n",
      "Epoch 630/1000 - Train loss: 0.217 - R²: 0.725\n",
      "Epoch 640/1000 - Train loss: 0.232 - R²: 0.672\n",
      "Epoch 650/1000 - Train loss: 0.217 - R²: 0.694\n",
      "Epoch 660/1000 - Train loss: 0.211 - R²: 0.671\n",
      "Epoch 670/1000 - Train loss: 0.285 - R²: 0.633\n",
      "Epoch 680/1000 - Train loss: 0.249 - R²: 0.616\n",
      "Epoch 690/1000 - Train loss: 0.209 - R²: 0.694\n",
      "Epoch 700/1000 - Train loss: 0.213 - R²: 0.750\n",
      "Epoch 710/1000 - Train loss: 0.330 - R²: 0.581\n",
      "Epoch 720/1000 - Train loss: 0.256 - R²: 0.640\n",
      "Epoch 730/1000 - Train loss: 0.219 - R²: 0.674\n",
      "Epoch 740/1000 - Train loss: 0.295 - R²: 0.626\n",
      "Epoch 750/1000 - Train loss: 0.225 - R²: 0.718\n",
      "Epoch 760/1000 - Train loss: 0.262 - R²: 0.656\n",
      "Epoch 770/1000 - Train loss: 0.213 - R²: 0.678\n",
      "Epoch 780/1000 - Train loss: 0.235 - R²: 0.673\n",
      "Epoch 790/1000 - Train loss: 0.268 - R²: 0.652\n",
      "Epoch 800/1000 - Train loss: 0.221 - R²: 0.729\n",
      "Epoch 810/1000 - Train loss: 0.236 - R²: 0.614\n",
      "Epoch 820/1000 - Train loss: 0.232 - R²: 0.673\n",
      "Epoch 830/1000 - Train loss: 0.220 - R²: 0.709\n",
      "Epoch 840/1000 - Train loss: 0.221 - R²: 0.725\n",
      "Epoch 850/1000 - Train loss: 0.269 - R²: 0.600\n",
      "Epoch 860/1000 - Train loss: 0.222 - R²: 0.719\n",
      "Epoch 870/1000 - Train loss: 0.293 - R²: 0.633\n",
      "Epoch 880/1000 - Train loss: 0.228 - R²: 0.681\n",
      "Epoch 890/1000 - Train loss: 0.234 - R²: 0.711\n",
      "Epoch 900/1000 - Train loss: 0.229 - R²: 0.670\n",
      "Epoch 910/1000 - Train loss: 0.227 - R²: 0.707\n",
      "Epoch 920/1000 - Train loss: 0.196 - R²: 0.735\n",
      "Epoch 930/1000 - Train loss: 0.214 - R²: 0.738\n",
      "Epoch 940/1000 - Train loss: 0.230 - R²: 0.705\n",
      "Epoch 950/1000 - Train loss: 0.291 - R²: 0.620\n",
      "Epoch 960/1000 - Train loss: 0.247 - R²: 0.667\n",
      "Epoch 970/1000 - Train loss: 0.222 - R²: 0.664\n",
      "Epoch 980/1000 - Train loss: 0.236 - R²: 0.637\n",
      "Epoch 990/1000 - Train loss: 0.228 - R²: 0.670\n",
      "Epoch 1000/1000 - Train loss: 0.232 - R²: 0.660\n",
      "\n"
     ]
    },
    {
     "data": {
      "image/png": "[encoded data removed]",
      "text/plain": [
       "<Figure size 864x360 with 2 Axes>"
      ]
     },
     "metadata": {
      "needs_background": "light"
     },
     "output_type": "display_data"
    }
   ],
   "source": [
    "input_size = 8\n",
    "output_size = 1\n",
    "\n",
    "### START CODE HERE ###\n",
    "# Initialize the model\n",
    "model = RegressionNet(input_size, output_size)\n",
    "\n",
    "# Initialize the loss function, and the optimizer with a learning rate of 0.01 and a weight_decay of 0.4\n",
    "loss_fn = nn.MSELoss()\n",
    "optimizer = optim.Adam(model.parameters(), lr=0.01, weight_decay=0.4) \n",
    "\n",
    "# Train the model, for 1000 epochs and with a seed of 42\n",
    "train(model, train_loader, loss_fn, optimizer, epochs=1000, seed=42)\n",
    "### END CODE HERE ###"
   ]
  },
  {
   "cell_type": "markdown",
   "id": "d4c728a3",
   "metadata": {},
   "source": [
    "Now comes the time to test our trained model."
   ]
  },
  {
   "cell_type": "code",
   "execution_count": 34,
   "id": "d0a049ea",
   "metadata": {},
   "outputs": [],
   "source": [
    "def test(model: torch.nn.Module, dataloader: torch.utils.data.DataLoader, seed=None):\n",
    "    \"\"\"\n",
    "    Evaluates a neural network model.\n",
    "\n",
    "    This function evaluates a neural network model using the provided dataloader.\n",
    "    It tracks and prints the Mean Absolute Error (MAE) and R² metrics.\n",
    "\n",
    "    Args:\n",
    "        model (torch.nn.Module): The neural network model to evaluate.\n",
    "        dataloader (torch.utils.data.DataLoader): DataLoader for the evaluation data.\n",
    "\n",
    "    Returns:\n",
    "        None\n",
    "    \"\"\"\n",
    "    if seed:\n",
    "        helpers.set_seed(seed)\n",
    "\n",
    "    # Initialize MAE and R² metrics\n",
    "    mae_metric = metrics.MAEMetric()\n",
    "    r2_metric = metrics.R2Metric()\n",
    "\n",
    "    # Progress bar set-up\n",
    "    pbar = tqdm(total=len(dataloader), leave=True)\n",
    "\n",
    "    # Set the model in evaluation mode\n",
    "    model.eval()\n",
    "\n",
    "    with torch.no_grad():\n",
    "        # Iterate through data\n",
    "        for data, target in dataloader:\n",
    "            # Forward pass\n",
    "            out = model(data)\n",
    "\n",
    "            # Update MAE and R² metrics\n",
    "            mae_metric.update(out, target)\n",
    "            r2_metric.update(out, target)\n",
    "\n",
    "            # Update progress bar\n",
    "            pbar.update()\n",
    "\n",
    "    # End of evaluation, show MAE and R²\n",
    "    test_mae = mae_metric.compute()\n",
    "    test_r2 = r2_metric.compute()\n",
    "    pbar.set_postfix_str(f\"MAE: {test_mae:.4f}, R²: {test_r2:.4f}\")\n",
    "    print(f\"Test MAE: {test_mae:.4f}, Test R²: {test_r2:.4f}\")\n",
    "\n",
    "    # Reset metrics\n",
    "    mae_metric.reset()\n",
    "    r2_metric.reset()"
   ]
  },
  {
   "cell_type": "code",
   "execution_count": 35,
   "id": "3a9d7db2",
   "metadata": {},
   "outputs": [
    {
     "data": {
      "application/vnd.jupyter.widget-view+json": {
       "model_id": "296bc811e49b42c0aef440bc551c94e0",
       "version_major": 2,
       "version_minor": 0
      },
      "text/plain": [
       "HBox(children=(FloatProgress(value=0.0, max=5.0), HTML(value='')))"
      ]
     },
     "metadata": {},
     "output_type": "display_data"
    },
    {
     "name": "stdout",
     "output_type": "stream",
     "text": [
      "Test MAE: 0.4276, Test R²: 0.6862\n"
     ]
    }
   ],
   "source": [
    "### START CODE HERE ###\n",
    "# Test the model with a seed of 42\n",
    "test(model, test_loader, seed=42)\n",
    "### END CODE HERE ###"
   ]
  },
  {
   "cell_type": "markdown",
   "id": "3cfbf891",
   "metadata": {},
   "source": [
    "You should obtain a [Mean Absolute Error](https://en.wikipedia.org/wiki/Mean_absolute_error) of approximately 0.43, and an $R^2$ of roughly 0.68.\n",
    "\n",
    "Not bad right? It roughly means that almost 70% of the variation of the data can be explained by our model. It's probably not the best performance that can be obtained on this data, but further tuning and longer trainings would be needed for that.\n",
    "\n",
    "Congratulations on training your first neural networks! In the next session, you will learn to train a special type of network: convolutional neural networks."
   ]
  },
  {
   "cell_type": "markdown",
   "id": "cd38a4ad",
   "metadata": {},
   "source": [
    "## (Optional) Additional PyTorch resources\n",
    "- PyTorch cheat sheet: https://pytorch.org/tutorials/beginner/ptcheat.html\n",
    "- Other PyTorch tutorials: https://pytorch.org/tutorials/index.html\n",
    "- PyTorch recipes: https://pytorch.org/tutorials/recipes/recipes_index.html (bite-sized code examples on specific PyTorch features)\n",
    "- PyTorch examples: https://github.com/pytorch/examples"
   ]
  }
 ],
 "metadata": {
  "kernelspec": {
   "display_name": "Python 3 (ipykernel)",
   "language": "python",
   "name": "python3"
  },
  "language_info": {
   "codemirror_mode": {
    "name": "ipython",
    "version": 3
   },
   "file_extension": ".py",
   "mimetype": "text/x-python",
   "name": "python",
   "nbconvert_exporter": "python",
   "pygments_lexer": "ipython3",
   "version": "3.7.17"
  },
  "vscode": {
   "interpreter": {
    "hash": "05f41cfe409499c20c6ade0f680b207fd3596bcf0e119a0dff1094da52c67f55"
   }
  }
 },
 "nbformat": 4,
 "nbformat_minor": 5
}
